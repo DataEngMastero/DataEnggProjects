{
 "cells": [
  {
   "cell_type": "markdown",
   "metadata": {},
   "source": [
    "### Importing Libraries"
   ]
  },
  {
   "cell_type": "code",
   "execution_count": 2,
   "metadata": {},
   "outputs": [],
   "source": [
    "from pyspark.sql import SparkSession, functions as func \n",
    "from pyspark.sql.types import IntegerType"
   ]
  },
  {
   "cell_type": "markdown",
   "metadata": {},
   "source": [
    "### Loading Files"
   ]
  },
  {
   "cell_type": "code",
   "execution_count": 3,
   "metadata": {},
   "outputs": [
    {
     "name": "stderr",
     "output_type": "stream",
     "text": [
      "24/02/11 16:26:13 WARN Utils: Your hostname, Poojas-MacBook-Air.local resolves to a loopback address: 127.0.0.1; using 172.20.10.2 instead (on interface en0)\n",
      "24/02/11 16:26:13 WARN Utils: Set SPARK_LOCAL_IP if you need to bind to another address\n",
      "Setting default log level to \"WARN\".\n",
      "To adjust logging level use sc.setLogLevel(newLevel). For SparkR, use setLogLevel(newLevel).\n",
      "24/02/11 16:26:13 WARN NativeCodeLoader: Unable to load native-hadoop library for your platform... using builtin-java classes where applicable\n"
     ]
    },
    {
     "name": "stderr",
     "output_type": "stream",
     "text": [
      "24/02/11 16:26:25 WARN GarbageCollectionMetrics: To enable non-built-in garbage collector(s) List(G1 Concurrent GC), users should configure it(them) to spark.eventLog.gcMetrics.youngGenerationGarbageCollectors or spark.eventLog.gcMetrics.oldGenerationGarbageCollectors\n"
     ]
    }
   ],
   "source": [
    "spark = SparkSession.builder.appName(\"GooglePlayStore\").getOrCreate()\n",
    "df = spark.read.load(\"google_apps.csv\", format='csv', sep=',', header='true', escape='\"', inferschema='true')\n"
   ]
  },
  {
   "cell_type": "code",
   "execution_count": 4,
   "metadata": {},
   "outputs": [
    {
     "data": {
      "text/plain": [
       "9659"
      ]
     },
     "execution_count": 4,
     "metadata": {},
     "output_type": "execute_result"
    }
   ],
   "source": [
    "# Total Records:\n",
    "df.count()"
   ]
  },
  {
   "cell_type": "code",
   "execution_count": 5,
   "metadata": {},
   "outputs": [
    {
     "name": "stdout",
     "output_type": "stream",
     "text": [
      "+---+--------------------+--------------+------+-------+----+-----------+----+-----+--------------+--------------------+------------------+------------------+------------+\n",
      "|_c0|                 App|      Category|Rating|Reviews|Size|   Installs|Type|Price|Content Rating|              Genres|      Last Updated|       Current Ver| Android Ver|\n",
      "+---+--------------------+--------------+------+-------+----+-----------+----+-----+--------------+--------------------+------------------+------------------+------------+\n",
      "|  0|Photo Editor & Ca...|ART_AND_DESIGN|   4.1|    159|19.0|    10,000+|Free|    0|      Everyone|        Art & Design|   January 7, 2018|             1.0.0|4.0.3 and up|\n",
      "|  1| Coloring book moana|ART_AND_DESIGN|   3.9|    967|14.0|   500,000+|Free|    0|      Everyone|Art & Design;Pret...|  January 15, 2018|             2.0.0|4.0.3 and up|\n",
      "|  2|U Launcher Lite –...|ART_AND_DESIGN|   4.7|  87510| 8.7| 5,000,000+|Free|    0|      Everyone|        Art & Design|    August 1, 2018|             1.2.4|4.0.3 and up|\n",
      "|  3|Sketch - Draw & P...|ART_AND_DESIGN|   4.5| 215644|25.0|50,000,000+|Free|    0|          Teen|        Art & Design|      June 8, 2018|Varies with device|  4.2 and up|\n",
      "|  4|Pixel Draw - Numb...|ART_AND_DESIGN|   4.3|    967| 2.8|   100,000+|Free|    0|      Everyone|Art & Design;Crea...|     June 20, 2018|               1.1|  4.4 and up|\n",
      "|  5|Paper flowers ins...|ART_AND_DESIGN|   4.4|    167| 5.6|    50,000+|Free|    0|      Everyone|        Art & Design|    March 26, 2017|                 1|  2.3 and up|\n",
      "|  6|Smoke Effect Phot...|ART_AND_DESIGN|   3.8|    178|19.0|    50,000+|Free|    0|      Everyone|        Art & Design|    April 26, 2018|               1.1|4.0.3 and up|\n",
      "|  7|    Infinite Painter|ART_AND_DESIGN|   4.1|  36815|29.0| 1,000,000+|Free|    0|      Everyone|        Art & Design|     June 14, 2018|          6.1.61.1|  4.2 and up|\n",
      "|  8|Garden Coloring Book|ART_AND_DESIGN|   4.4|  13791|33.0| 1,000,000+|Free|    0|      Everyone|        Art & Design|September 20, 2017|             2.9.2|  3.0 and up|\n",
      "|  9|Kids Paint Free -...|ART_AND_DESIGN|   4.7|    121| 3.1|    10,000+|Free|    0|      Everyone|Art & Design;Crea...|      July 3, 2018|               2.8|4.0.3 and up|\n",
      "+---+--------------------+--------------+------+-------+----+-----------+----+-----+--------------+--------------------+------------------+------------------+------------+\n",
      "only showing top 10 rows\n",
      "\n"
     ]
    },
    {
     "name": "stderr",
     "output_type": "stream",
     "text": [
      "24/02/11 16:27:15 WARN CSVHeaderChecker: CSV header does not conform to the schema.\n",
      " Header: , App, Category, Rating, Reviews, Size, Installs, Type, Price, Content Rating, Genres, Last Updated, Current Ver, Android Ver\n",
      " Schema: _c0, App, Category, Rating, Reviews, Size, Installs, Type, Price, Content Rating, Genres, Last Updated, Current Ver, Android Ver\n",
      "Expected: _c0 but found: \n",
      "CSV file: file:///Users/poojasingh/Documents/Git_Reposit/DataEnggProjects/GooglePlaystore_Spark/google_apps.csv\n"
     ]
    }
   ],
   "source": [
    "# First 10 records\n",
    "df.show(10)"
   ]
  },
  {
   "cell_type": "code",
   "execution_count": 6,
   "metadata": {},
   "outputs": [
    {
     "name": "stdout",
     "output_type": "stream",
     "text": [
      "root\n",
      " |-- _c0: integer (nullable = true)\n",
      " |-- App: string (nullable = true)\n",
      " |-- Category: string (nullable = true)\n",
      " |-- Rating: double (nullable = true)\n",
      " |-- Reviews: integer (nullable = true)\n",
      " |-- Size: double (nullable = true)\n",
      " |-- Installs: string (nullable = true)\n",
      " |-- Type: string (nullable = true)\n",
      " |-- Price: string (nullable = true)\n",
      " |-- Content Rating: string (nullable = true)\n",
      " |-- Genres: string (nullable = true)\n",
      " |-- Last Updated: string (nullable = true)\n",
      " |-- Current Ver: string (nullable = true)\n",
      " |-- Android Ver: string (nullable = true)\n",
      "\n"
     ]
    }
   ],
   "source": [
    "df.printSchema()"
   ]
  },
  {
   "cell_type": "markdown",
   "metadata": {},
   "source": [
    "### Data Cleaning"
   ]
  },
  {
   "cell_type": "code",
   "execution_count": 9,
   "metadata": {},
   "outputs": [],
   "source": [
    "# Removing Irrelvant Columns\n",
    "df = df.drop(\"_c0\", \"Size\", \"Content Rating\", \"Android Ver\", \"Current Ver\", \"Last Updated\")"
   ]
  },
  {
   "cell_type": "code",
   "execution_count": 10,
   "metadata": {},
   "outputs": [
    {
     "name": "stdout",
     "output_type": "stream",
     "text": [
      "root\n",
      " |-- App: string (nullable = true)\n",
      " |-- Category: string (nullable = true)\n",
      " |-- Rating: double (nullable = true)\n",
      " |-- Reviews: integer (nullable = true)\n",
      " |-- Installs: string (nullable = true)\n",
      " |-- Type: string (nullable = true)\n",
      " |-- Price: string (nullable = true)\n",
      " |-- Genres: string (nullable = true)\n",
      "\n"
     ]
    }
   ],
   "source": [
    "df.printSchema()"
   ]
  },
  {
   "cell_type": "code",
   "execution_count": 11,
   "metadata": {},
   "outputs": [],
   "source": [
    "# Converting Columns Data Types\n",
    "df = df.withColumn(\"Reviews\", func.col(\"Reviews\").cast(IntegerType())) \\\n",
    "        .withColumn(\"Installs\", func.regexp_replace(func.col(\"Installs\"), \"[^0-9]\", \"\")) \\\n",
    "        .withColumn(\"Installs\", func.col(\"Installs\").cast(IntegerType())) \\\n",
    "        .withColumn(\"Price\", func.regexp_replace(func.col(\"Price\"), \"[$]\", \"\")) \\\n",
    "        .withColumn(\"Price\", func.col(\"Price\").cast(IntegerType()))"
   ]
  },
  {
   "cell_type": "code",
   "execution_count": 12,
   "metadata": {},
   "outputs": [
    {
     "name": "stdout",
     "output_type": "stream",
     "text": [
      "+--------------------+--------------+------+-------+--------+----+-----+--------------------+\n",
      "|                 App|      Category|Rating|Reviews|Installs|Type|Price|              Genres|\n",
      "+--------------------+--------------+------+-------+--------+----+-----+--------------------+\n",
      "|Photo Editor & Ca...|ART_AND_DESIGN|   4.1|    159|   10000|Free|    0|        Art & Design|\n",
      "| Coloring book moana|ART_AND_DESIGN|   3.9|    967|  500000|Free|    0|Art & Design;Pret...|\n",
      "|U Launcher Lite –...|ART_AND_DESIGN|   4.7|  87510| 5000000|Free|    0|        Art & Design|\n",
      "|Sketch - Draw & P...|ART_AND_DESIGN|   4.5| 215644|50000000|Free|    0|        Art & Design|\n",
      "|Pixel Draw - Numb...|ART_AND_DESIGN|   4.3|    967|  100000|Free|    0|Art & Design;Crea...|\n",
      "|Paper flowers ins...|ART_AND_DESIGN|   4.4|    167|   50000|Free|    0|        Art & Design|\n",
      "|Smoke Effect Phot...|ART_AND_DESIGN|   3.8|    178|   50000|Free|    0|        Art & Design|\n",
      "|    Infinite Painter|ART_AND_DESIGN|   4.1|  36815| 1000000|Free|    0|        Art & Design|\n",
      "|Garden Coloring Book|ART_AND_DESIGN|   4.4|  13791| 1000000|Free|    0|        Art & Design|\n",
      "|Kids Paint Free -...|ART_AND_DESIGN|   4.7|    121|   10000|Free|    0|Art & Design;Crea...|\n",
      "+--------------------+--------------+------+-------+--------+----+-----+--------------------+\n",
      "only showing top 10 rows\n",
      "\n"
     ]
    }
   ],
   "source": [
    "df.show(10)"
   ]
  },
  {
   "cell_type": "markdown",
   "metadata": {},
   "source": [
    "### Google Playstore Analysis"
   ]
  },
  {
   "cell_type": "code",
   "execution_count": 13,
   "metadata": {},
   "outputs": [],
   "source": [
    "df.createOrReplaceTempView(\"google_apps\")"
   ]
  },
  {
   "cell_type": "code",
   "execution_count": 15,
   "metadata": {},
   "outputs": [
    {
     "name": "stdout",
     "output_type": "stream",
     "text": [
      "+--------------------+--------------+------+-------+--------+----+-----+--------------------+\n",
      "|                 App|      Category|Rating|Reviews|Installs|Type|Price|              Genres|\n",
      "+--------------------+--------------+------+-------+--------+----+-----+--------------------+\n",
      "|Photo Editor & Ca...|ART_AND_DESIGN|   4.1|    159|   10000|Free|    0|        Art & Design|\n",
      "| Coloring book moana|ART_AND_DESIGN|   3.9|    967|  500000|Free|    0|Art & Design;Pret...|\n",
      "|U Launcher Lite –...|ART_AND_DESIGN|   4.7|  87510| 5000000|Free|    0|        Art & Design|\n",
      "|Sketch - Draw & P...|ART_AND_DESIGN|   4.5| 215644|50000000|Free|    0|        Art & Design|\n",
      "|Pixel Draw - Numb...|ART_AND_DESIGN|   4.3|    967|  100000|Free|    0|Art & Design;Crea...|\n",
      "|Paper flowers ins...|ART_AND_DESIGN|   4.4|    167|   50000|Free|    0|        Art & Design|\n",
      "|Smoke Effect Phot...|ART_AND_DESIGN|   3.8|    178|   50000|Free|    0|        Art & Design|\n",
      "|    Infinite Painter|ART_AND_DESIGN|   4.1|  36815| 1000000|Free|    0|        Art & Design|\n",
      "|Garden Coloring Book|ART_AND_DESIGN|   4.4|  13791| 1000000|Free|    0|        Art & Design|\n",
      "|Kids Paint Free -...|ART_AND_DESIGN|   4.7|    121|   10000|Free|    0|Art & Design;Crea...|\n",
      "+--------------------+--------------+------+-------+--------+----+-----+--------------------+\n",
      "\n"
     ]
    }
   ],
   "source": [
    "result = spark.sql(\"SELECT * FROM google_apps LIMIT 10\")\n",
    "result.show()"
   ]
  },
  {
   "cell_type": "code",
   "execution_count": 16,
   "metadata": {},
   "outputs": [
    {
     "name": "stdout",
     "output_type": "stream",
     "text": [
      "+--------------------+-------------+\n",
      "|                 App|total_reviews|\n",
      "+--------------------+-------------+\n",
      "|            Facebook|     78158306|\n",
      "|  WhatsApp Messenger|     69119316|\n",
      "|           Instagram|     66577313|\n",
      "|Messenger – Text ...|     56642847|\n",
      "|      Clash of Clans|     44891723|\n",
      "|Clean Master- Spa...|     42916526|\n",
      "|      Subway Surfers|     27722264|\n",
      "|             YouTube|     25655305|\n",
      "|Security Master -...|     24900999|\n",
      "|        Clash Royale|     23133508|\n",
      "+--------------------+-------------+\n",
      "\n"
     ]
    }
   ],
   "source": [
    "# Top 10 Most Reviewed Apps\n",
    "top10_reviewed_apps = spark.sql(\"SELECT App, sum(Reviews) total_reviews FROM google_apps GROUP BY 1 ORDER BY 2 DESC LIMIT 10\")\n",
    "top10_reviewed_apps.show()"
   ]
  },
  {
   "cell_type": "code",
   "execution_count": 17,
   "metadata": {},
   "outputs": [
    {
     "name": "stdout",
     "output_type": "stream",
     "text": [
      "+--------------------+---------------+\n",
      "|                 App|total_installed|\n",
      "+--------------------+---------------+\n",
      "|  Google Street View|     1000000000|\n",
      "|         Google News|     1000000000|\n",
      "|      Subway Surfers|     1000000000|\n",
      "|   Google Play Books|     1000000000|\n",
      "|           Instagram|     1000000000|\n",
      "|  WhatsApp Messenger|     1000000000|\n",
      "|Google Play Movie...|     1000000000|\n",
      "|              Google|     1000000000|\n",
      "|               Gmail|     1000000000|\n",
      "|   Google Play Games|     1000000000|\n",
      "+--------------------+---------------+\n",
      "\n"
     ]
    }
   ],
   "source": [
    "# Top 10 Most Installed Apps\n",
    "top10_installed_apps = spark.sql(\"SELECT App, sum(Installs) total_installed FROM google_apps GROUP BY 1 ORDER BY 2 DESC LIMIT 10\")\n",
    "top10_installed_apps.show()"
   ]
  },
  {
   "cell_type": "code",
   "execution_count": 18,
   "metadata": {},
   "outputs": [
    {
     "name": "stdout",
     "output_type": "stream",
     "text": [
      "+------------------+---------------+\n",
      "|          Category|total_installed|\n",
      "+------------------+---------------+\n",
      "|              GAME|    13878924415|\n",
      "|     COMMUNICATION|    11038276251|\n",
      "|             TOOLS|     8001771915|\n",
      "|      PRODUCTIVITY|     5793091369|\n",
      "|            SOCIAL|     5487867902|\n",
      "|       PHOTOGRAPHY|     4649147655|\n",
      "|            FAMILY|     4427941505|\n",
      "|     VIDEO_PLAYERS|     3926902720|\n",
      "|  TRAVEL_AND_LOCAL|     2894887146|\n",
      "|NEWS_AND_MAGAZINES|     2369217760|\n",
      "+------------------+---------------+\n",
      "\n"
     ]
    }
   ],
   "source": [
    "# Categorywise App Distribution\n",
    "categorywise_apps = spark.sql(\"SELECT Category, sum(Installs) total_installed FROM google_apps GROUP BY 1 ORDER BY 2 DESC LIMIT 10\")\n",
    "categorywise_apps.show()"
   ]
  },
  {
   "cell_type": "code",
   "execution_count": 20,
   "metadata": {},
   "outputs": [
    {
     "name": "stdout",
     "output_type": "stream",
     "text": [
      "+--------------------+-----+\n",
      "|                 App|price|\n",
      "+--------------------+-----+\n",
      "|I'm Rich - Trump ...|  400|\n",
      "|most expensive ap...|  399|\n",
      "|          I am Rich!|  399|\n",
      "|      I am Rich Plus|  399|\n",
      "|I'm Rich/Eu sou R...|  399|\n",
      "|   I Am Rich Premium|  399|\n",
      "|           I am Rich|  399|\n",
      "|  I AM RICH PRO PLUS|  399|\n",
      "|       I Am Rich Pro|  399|\n",
      "|  I am rich(premium)|  399|\n",
      "+--------------------+-----+\n",
      "\n"
     ]
    }
   ],
   "source": [
    "# Top 10 Paid Apps\n",
    "top10_paidapps = spark.sql(\"SELECT App, sum(Price) price FROM google_apps WHERE Type = 'Paid' GROUP BY 1 ORDER BY 2 DESC LIMIT 10\")\n",
    "top10_paidapps.show()"
   ]
  },
  {
   "cell_type": "code",
   "execution_count": 22,
   "metadata": {},
   "outputs": [
    {
     "name": "stdout",
     "output_type": "stream",
     "text": [
      "+--------------------+-----------+\n",
      "|                 App|max(Rating)|\n",
      "+--------------------+-----------+\n",
      "|Super Hearing Sec...|        5.0|\n",
      "|CI 174 Gray Icon ...|        5.0|\n",
      "|   AJ Blue Icon Pack|        5.0|\n",
      "|AJ Gray Dark Icon...|        5.0|\n",
      "|             Mu.F.O.|        5.0|\n",
      "|      FHR 5-Tier 2.0|        5.0|\n",
      "|30WPM Amateur ham...|        5.0|\n",
      "|Hey AJ! It's Bedt...|        5.0|\n",
      "|     P-Home for KLWP|        5.0|\n",
      "|        Morse Player|        5.0|\n",
      "+--------------------+-----------+\n",
      "\n"
     ]
    }
   ],
   "source": [
    "# Top 10 Paid Ratings App\n",
    "top10_paid_ratings = spark.sql(\"SELECT App, max(Rating) FROM google_apps WHERE Type = 'Paid' GROUP BY 1 ORDER BY 2 DESC LIMIT 10\")\n",
    "top10_paid_ratings.show()"
   ]
  }
 ],
 "metadata": {
  "kernelspec": {
   "display_name": "Python 3",
   "language": "python",
   "name": "python3"
  },
  "language_info": {
   "codemirror_mode": {
    "name": "ipython",
    "version": 3
   },
   "file_extension": ".py",
   "mimetype": "text/x-python",
   "name": "python",
   "nbconvert_exporter": "python",
   "pygments_lexer": "ipython3",
   "version": "3.11.5"
  }
 },
 "nbformat": 4,
 "nbformat_minor": 2
}
